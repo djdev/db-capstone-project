{
 "cells": [
  {
   "cell_type": "code",
   "execution_count": 1,
   "id": "7186d4d3",
   "metadata": {},
   "outputs": [],
   "source": [
    "import mysql.connector as connector"
   ]
  },
  {
   "cell_type": "code",
   "execution_count": 2,
   "id": "6750e201",
   "metadata": {},
   "outputs": [],
   "source": [
    "connection = connector.connect(user=\"db_practice_user\", password=\"Pr@ct1c3db01\", db=\"LittleLemonDB\")"
   ]
  },
  {
   "cell_type": "code",
   "execution_count": 3,
   "id": "50abb2a1",
   "metadata": {},
   "outputs": [],
   "source": [
    "cursor = connection.cursor(buffered=True)"
   ]
  },
  {
   "cell_type": "code",
   "execution_count": 4,
   "id": "be202903",
   "metadata": {},
   "outputs": [],
   "source": [
    "show_tables_query = \"SHOW tables\" \n",
    "cursor.execute(show_tables_query)"
   ]
  },
  {
   "cell_type": "code",
   "execution_count": 5,
   "id": "790479f7",
   "metadata": {},
   "outputs": [],
   "source": [
    "results = cursor.fetchall()"
   ]
  },
  {
   "cell_type": "code",
   "execution_count": 6,
   "id": "41ee4772",
   "metadata": {},
   "outputs": [
    {
     "name": "stdout",
     "output_type": "stream",
     "text": [
      "('Bookings',)\n",
      "('Customers',)\n",
      "('Deliveries',)\n",
      "('MenuItems',)\n",
      "('Menus',)\n",
      "('Orders',)\n",
      "('ordersview',)\n",
      "('Roles',)\n",
      "('Staff',)\n"
     ]
    }
   ],
   "source": [
    "for result in results:\n",
    "    print(result)"
   ]
  },
  {
   "cell_type": "code",
   "execution_count": 8,
   "id": "e10b9b5a",
   "metadata": {},
   "outputs": [],
   "source": [
    "show_customer_orders_greater_than_60 = \"\"\"\n",
    "SELECT Customers.FullName AS FullName, Customers.ContactNumber AS ContactNumber, Customers.Email AS Email\n",
    "FROM Orders JOIN Customers \n",
    "ON Orders.CustomerID = Customers.CustomerID \n",
    "WHERE Orders.TotalCost > 60;\n",
    "\"\"\"\n",
    "cursor.execute(show_customer_orders_greater_than_60)"
   ]
  },
  {
   "cell_type": "code",
   "execution_count": 9,
   "id": "1b434741",
   "metadata": {},
   "outputs": [],
   "source": [
    "customers = cursor.fetchall()"
   ]
  },
  {
   "cell_type": "code",
   "execution_count": 11,
   "id": "90d7eee6",
   "metadata": {},
   "outputs": [
    {
     "name": "stdout",
     "output_type": "stream",
     "text": [
      "('Anna Iversen', '757536375', 'ai@mangatagallo.com')\n",
      "('Vanessa McCarthy', '757536378', 'vm@mangatagallo.com')\n"
     ]
    }
   ],
   "source": [
    "for customer in customers:\n",
    "    print(customer)"
   ]
  },
  {
   "cell_type": "code",
   "execution_count": 12,
   "id": "72d7bbab",
   "metadata": {},
   "outputs": [
    {
     "data": {
      "text/plain": [
       "True"
      ]
     },
     "execution_count": 12,
     "metadata": {},
     "output_type": "execute_result"
    }
   ],
   "source": [
    "cursor.close()"
   ]
  },
  {
   "cell_type": "code",
   "execution_count": null,
   "id": "5bd375e3",
   "metadata": {},
   "outputs": [],
   "source": []
  }
 ],
 "metadata": {
  "kernelspec": {
   "display_name": "Python 3 (ipykernel)",
   "language": "python",
   "name": "python3"
  },
  "language_info": {
   "codemirror_mode": {
    "name": "ipython",
    "version": 3
   },
   "file_extension": ".py",
   "mimetype": "text/x-python",
   "name": "python",
   "nbconvert_exporter": "python",
   "pygments_lexer": "ipython3",
   "version": "3.10.10"
  }
 },
 "nbformat": 4,
 "nbformat_minor": 5
}
